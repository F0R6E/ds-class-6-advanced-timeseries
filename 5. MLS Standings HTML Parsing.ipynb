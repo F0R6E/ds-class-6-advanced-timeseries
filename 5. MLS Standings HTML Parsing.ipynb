{
 "cells": [
  {
   "cell_type": "code",
   "execution_count": 1,
   "metadata": {},
   "outputs": [],
   "source": [
    "import pandas as pd\n",
    "import numpy as np"
   ]
  },
  {
   "cell_type": "markdown",
   "metadata": {},
   "source": [
    "![image](https://user-images.githubusercontent.com/872296/40033839-283a0aa2-57c8-11e8-98fd-399977bb49f0.png)"
   ]
  },
  {
   "cell_type": "markdown",
   "metadata": {},
   "source": [
    "### Import the Data\n",
    "\n",
    "pandas [`read_html`](https://pandas.pydata.org/pandas-docs/stable/generated/pandas.read_html.html) method parses an HTML website and tries to pull tables out of it.\n",
    "\n",
    "This website has two tables, one for each conference."
   ]
  },
  {
   "cell_type": "code",
   "execution_count": 2,
   "metadata": {},
   "outputs": [],
   "source": [
    "page = pd.read_html('https://www.mlssoccer.com/standings/mls/2017/')"
   ]
  },
  {
   "cell_type": "code",
   "execution_count": 4,
   "metadata": {},
   "outputs": [],
   "source": [
    "t1 = page[0]"
   ]
  },
  {
   "cell_type": "code",
   "execution_count": 5,
   "metadata": {},
   "outputs": [
    {
     "data": {
      "text/html": [
       "<div>\n",
       "<style scoped>\n",
       "    .dataframe tbody tr th:only-of-type {\n",
       "        vertical-align: middle;\n",
       "    }\n",
       "\n",
       "    .dataframe tbody tr th {\n",
       "        vertical-align: top;\n",
       "    }\n",
       "\n",
       "    .dataframe thead th {\n",
       "        text-align: right;\n",
       "    }\n",
       "</style>\n",
       "<table border=\"1\" class=\"dataframe\">\n",
       "  <thead>\n",
       "    <tr style=\"text-align: right;\">\n",
       "      <th></th>\n",
       "      <th>Unnamed: 0</th>\n",
       "      <th>Unnamed: 1</th>\n",
       "      <th>Points</th>\n",
       "      <th>Unnamed: 3</th>\n",
       "      <th>Overall</th>\n",
       "      <th>Unnamed: 5</th>\n",
       "      <th>Home</th>\n",
       "      <th>Unnamed: 7</th>\n",
       "      <th>Away</th>\n",
       "      <th>Unnamed: 9</th>\n",
       "      <th>Unnamed: 10</th>\n",
       "      <th>Unnamed: 11</th>\n",
       "      <th>Unnamed: 12</th>\n",
       "      <th>Unnamed: 13</th>\n",
       "      <th>Unnamed: 14</th>\n",
       "      <th>Unnamed: 15</th>\n",
       "    </tr>\n",
       "  </thead>\n",
       "  <tbody>\n",
       "    <tr>\n",
       "      <th>0</th>\n",
       "      <td>#</td>\n",
       "      <td>Club</td>\n",
       "      <td>PTS</td>\n",
       "      <td>PPG</td>\n",
       "      <td>NaN</td>\n",
       "      <td>GP</td>\n",
       "      <td>W</td>\n",
       "      <td>L</td>\n",
       "      <td>T</td>\n",
       "      <td>GF</td>\n",
       "      <td>GA</td>\n",
       "      <td>GD</td>\n",
       "      <td>NaN</td>\n",
       "      <td>W-L-T</td>\n",
       "      <td>NaN</td>\n",
       "      <td>W-L-T</td>\n",
       "    </tr>\n",
       "    <tr>\n",
       "      <th>1</th>\n",
       "      <td>1</td>\n",
       "      <td>TORToronto FC</td>\n",
       "      <td>69</td>\n",
       "      <td>2.03</td>\n",
       "      <td>NaN</td>\n",
       "      <td>34</td>\n",
       "      <td>20</td>\n",
       "      <td>5</td>\n",
       "      <td>9</td>\n",
       "      <td>74</td>\n",
       "      <td>37</td>\n",
       "      <td>37</td>\n",
       "      <td>NaN</td>\n",
       "      <td>13-1-3</td>\n",
       "      <td>NaN</td>\n",
       "      <td>7-4-6</td>\n",
       "    </tr>\n",
       "    <tr>\n",
       "      <th>2</th>\n",
       "      <td>2</td>\n",
       "      <td>NYCNew York City FC</td>\n",
       "      <td>57</td>\n",
       "      <td>1.68</td>\n",
       "      <td>NaN</td>\n",
       "      <td>34</td>\n",
       "      <td>16</td>\n",
       "      <td>9</td>\n",
       "      <td>9</td>\n",
       "      <td>56</td>\n",
       "      <td>43</td>\n",
       "      <td>13</td>\n",
       "      <td>NaN</td>\n",
       "      <td>10-2-5</td>\n",
       "      <td>NaN</td>\n",
       "      <td>6-7-4</td>\n",
       "    </tr>\n",
       "    <tr>\n",
       "      <th>3</th>\n",
       "      <td>3</td>\n",
       "      <td>CHIChicago Fire</td>\n",
       "      <td>55</td>\n",
       "      <td>1.62</td>\n",
       "      <td>NaN</td>\n",
       "      <td>34</td>\n",
       "      <td>16</td>\n",
       "      <td>11</td>\n",
       "      <td>7</td>\n",
       "      <td>61</td>\n",
       "      <td>47</td>\n",
       "      <td>14</td>\n",
       "      <td>NaN</td>\n",
       "      <td>12-2-3</td>\n",
       "      <td>NaN</td>\n",
       "      <td>4-9-4</td>\n",
       "    </tr>\n",
       "    <tr>\n",
       "      <th>4</th>\n",
       "      <td>4</td>\n",
       "      <td>ATLAtlanta United FC</td>\n",
       "      <td>55</td>\n",
       "      <td>1.62</td>\n",
       "      <td>NaN</td>\n",
       "      <td>34</td>\n",
       "      <td>15</td>\n",
       "      <td>9</td>\n",
       "      <td>10</td>\n",
       "      <td>70</td>\n",
       "      <td>40</td>\n",
       "      <td>30</td>\n",
       "      <td>NaN</td>\n",
       "      <td>11-3-3</td>\n",
       "      <td>NaN</td>\n",
       "      <td>4-6-7</td>\n",
       "    </tr>\n",
       "  </tbody>\n",
       "</table>\n",
       "</div>"
      ],
      "text/plain": [
       "  Unnamed: 0            Unnamed: 1 Points Unnamed: 3  Overall Unnamed: 5 Home  \\\n",
       "0          #                  Club    PTS        PPG      NaN         GP    W   \n",
       "1          1         TORToronto FC     69       2.03      NaN         34   20   \n",
       "2          2   NYCNew York City FC     57       1.68      NaN         34   16   \n",
       "3          3       CHIChicago Fire     55       1.62      NaN         34   16   \n",
       "4          4  ATLAtlanta United FC     55       1.62      NaN         34   15   \n",
       "\n",
       "  Unnamed: 7 Away Unnamed: 9 Unnamed: 10 Unnamed: 11  Unnamed: 12 Unnamed: 13  \\\n",
       "0          L    T         GF          GA          GD          NaN       W-L-T   \n",
       "1          5    9         74          37          37          NaN      13-1-3   \n",
       "2          9    9         56          43          13          NaN      10-2-5   \n",
       "3         11    7         61          47          14          NaN      12-2-3   \n",
       "4          9   10         70          40          30          NaN      11-3-3   \n",
       "\n",
       "   Unnamed: 14 Unnamed: 15  \n",
       "0          NaN       W-L-T  \n",
       "1          NaN       7-4-6  \n",
       "2          NaN       6-7-4  \n",
       "3          NaN       4-9-4  \n",
       "4          NaN       4-6-7  "
      ]
     },
     "execution_count": 5,
     "metadata": {},
     "output_type": "execute_result"
    }
   ],
   "source": [
    "t1.head()"
   ]
  },
  {
   "cell_type": "markdown",
   "metadata": {},
   "source": [
    "It made its best, but got a few columns wrong. For example, `'Overall'` is just a super column that groups \"Games Played\" (`GP`), \"Won games\" (`W`), etc. Here are all the columns:"
   ]
  },
  {
   "cell_type": "code",
   "execution_count": 6,
   "metadata": {},
   "outputs": [
    {
     "data": {
      "text/plain": [
       "Index(['Unnamed: 0', 'Unnamed: 1', 'Points', 'Unnamed: 3', 'Overall',\n",
       "       'Unnamed: 5', 'Home', 'Unnamed: 7', 'Away', 'Unnamed: 9', 'Unnamed: 10',\n",
       "       'Unnamed: 11', 'Unnamed: 12', 'Unnamed: 13', 'Unnamed: 14',\n",
       "       'Unnamed: 15'],\n",
       "      dtype='object')"
      ]
     },
     "execution_count": 6,
     "metadata": {},
     "output_type": "execute_result"
    }
   ],
   "source": [
    "t1.columns"
   ]
  },
  {
   "cell_type": "markdown",
   "metadata": {},
   "source": [
    "We then drop some of those columns:"
   ]
  },
  {
   "cell_type": "code",
   "execution_count": 7,
   "metadata": {},
   "outputs": [],
   "source": [
    "t1.drop(columns=['Overall', 'Unnamed: 12', 'Unnamed: 14'], inplace=True)"
   ]
  },
  {
   "cell_type": "markdown",
   "metadata": {},
   "source": [
    "The real column names were actually parsed as the first row of the table:"
   ]
  },
  {
   "cell_type": "code",
   "execution_count": 8,
   "metadata": {},
   "outputs": [
    {
     "data": {
      "text/html": [
       "<div>\n",
       "<style scoped>\n",
       "    .dataframe tbody tr th:only-of-type {\n",
       "        vertical-align: middle;\n",
       "    }\n",
       "\n",
       "    .dataframe tbody tr th {\n",
       "        vertical-align: top;\n",
       "    }\n",
       "\n",
       "    .dataframe thead th {\n",
       "        text-align: right;\n",
       "    }\n",
       "</style>\n",
       "<table border=\"1\" class=\"dataframe\">\n",
       "  <thead>\n",
       "    <tr style=\"text-align: right;\">\n",
       "      <th></th>\n",
       "      <th>Unnamed: 0</th>\n",
       "      <th>Unnamed: 1</th>\n",
       "      <th>Points</th>\n",
       "      <th>Unnamed: 3</th>\n",
       "      <th>Unnamed: 5</th>\n",
       "      <th>Home</th>\n",
       "      <th>Unnamed: 7</th>\n",
       "      <th>Away</th>\n",
       "      <th>Unnamed: 9</th>\n",
       "      <th>Unnamed: 10</th>\n",
       "      <th>Unnamed: 11</th>\n",
       "      <th>Unnamed: 13</th>\n",
       "      <th>Unnamed: 15</th>\n",
       "    </tr>\n",
       "  </thead>\n",
       "  <tbody>\n",
       "    <tr>\n",
       "      <th>0</th>\n",
       "      <td>#</td>\n",
       "      <td>Club</td>\n",
       "      <td>PTS</td>\n",
       "      <td>PPG</td>\n",
       "      <td>GP</td>\n",
       "      <td>W</td>\n",
       "      <td>L</td>\n",
       "      <td>T</td>\n",
       "      <td>GF</td>\n",
       "      <td>GA</td>\n",
       "      <td>GD</td>\n",
       "      <td>W-L-T</td>\n",
       "      <td>W-L-T</td>\n",
       "    </tr>\n",
       "    <tr>\n",
       "      <th>1</th>\n",
       "      <td>1</td>\n",
       "      <td>TORToronto FC</td>\n",
       "      <td>69</td>\n",
       "      <td>2.03</td>\n",
       "      <td>34</td>\n",
       "      <td>20</td>\n",
       "      <td>5</td>\n",
       "      <td>9</td>\n",
       "      <td>74</td>\n",
       "      <td>37</td>\n",
       "      <td>37</td>\n",
       "      <td>13-1-3</td>\n",
       "      <td>7-4-6</td>\n",
       "    </tr>\n",
       "  </tbody>\n",
       "</table>\n",
       "</div>"
      ],
      "text/plain": [
       "  Unnamed: 0     Unnamed: 1 Points Unnamed: 3 Unnamed: 5 Home Unnamed: 7 Away  \\\n",
       "0          #           Club    PTS        PPG         GP    W          L    T   \n",
       "1          1  TORToronto FC     69       2.03         34   20          5    9   \n",
       "\n",
       "  Unnamed: 9 Unnamed: 10 Unnamed: 11 Unnamed: 13 Unnamed: 15  \n",
       "0         GF          GA          GD       W-L-T       W-L-T  \n",
       "1         74          37          37      13-1-3       7-4-6  "
      ]
     },
     "execution_count": 8,
     "metadata": {},
     "output_type": "execute_result"
    }
   ],
   "source": [
    "t1.head(2)"
   ]
  },
  {
   "cell_type": "markdown",
   "metadata": {},
   "source": [
    "And these are the values:"
   ]
  },
  {
   "cell_type": "code",
   "execution_count": 9,
   "metadata": {
    "scrolled": true
   },
   "outputs": [
    {
     "data": {
      "text/plain": [
       "array(['#', 'Club', 'PTS', 'PPG', 'GP', 'W', 'L', 'T', 'GF', 'GA', 'GD',\n",
       "       'W-L-T', 'W-L-T'], dtype=object)"
      ]
     },
     "execution_count": 9,
     "metadata": {},
     "output_type": "execute_result"
    }
   ],
   "source": [
    "t1.loc[0].values"
   ]
  },
  {
   "cell_type": "markdown",
   "metadata": {},
   "source": [
    "So we can just replace the column names with those of the first row:"
   ]
  },
  {
   "cell_type": "code",
   "execution_count": 10,
   "metadata": {},
   "outputs": [],
   "source": [
    "t1.columns = t1.loc[0].values"
   ]
  },
  {
   "cell_type": "code",
   "execution_count": 11,
   "metadata": {},
   "outputs": [
    {
     "data": {
      "text/html": [
       "<div>\n",
       "<style scoped>\n",
       "    .dataframe tbody tr th:only-of-type {\n",
       "        vertical-align: middle;\n",
       "    }\n",
       "\n",
       "    .dataframe tbody tr th {\n",
       "        vertical-align: top;\n",
       "    }\n",
       "\n",
       "    .dataframe thead th {\n",
       "        text-align: right;\n",
       "    }\n",
       "</style>\n",
       "<table border=\"1\" class=\"dataframe\">\n",
       "  <thead>\n",
       "    <tr style=\"text-align: right;\">\n",
       "      <th></th>\n",
       "      <th>#</th>\n",
       "      <th>Club</th>\n",
       "      <th>PTS</th>\n",
       "      <th>PPG</th>\n",
       "      <th>GP</th>\n",
       "      <th>W</th>\n",
       "      <th>L</th>\n",
       "      <th>T</th>\n",
       "      <th>GF</th>\n",
       "      <th>GA</th>\n",
       "      <th>GD</th>\n",
       "      <th>W-L-T</th>\n",
       "      <th>W-L-T</th>\n",
       "    </tr>\n",
       "  </thead>\n",
       "  <tbody>\n",
       "    <tr>\n",
       "      <th>0</th>\n",
       "      <td>#</td>\n",
       "      <td>Club</td>\n",
       "      <td>PTS</td>\n",
       "      <td>PPG</td>\n",
       "      <td>GP</td>\n",
       "      <td>W</td>\n",
       "      <td>L</td>\n",
       "      <td>T</td>\n",
       "      <td>GF</td>\n",
       "      <td>GA</td>\n",
       "      <td>GD</td>\n",
       "      <td>W-L-T</td>\n",
       "      <td>W-L-T</td>\n",
       "    </tr>\n",
       "    <tr>\n",
       "      <th>1</th>\n",
       "      <td>1</td>\n",
       "      <td>TORToronto FC</td>\n",
       "      <td>69</td>\n",
       "      <td>2.03</td>\n",
       "      <td>34</td>\n",
       "      <td>20</td>\n",
       "      <td>5</td>\n",
       "      <td>9</td>\n",
       "      <td>74</td>\n",
       "      <td>37</td>\n",
       "      <td>37</td>\n",
       "      <td>13-1-3</td>\n",
       "      <td>7-4-6</td>\n",
       "    </tr>\n",
       "  </tbody>\n",
       "</table>\n",
       "</div>"
      ],
      "text/plain": [
       "   #           Club  PTS   PPG  GP   W  L  T  GF  GA  GD   W-L-T  W-L-T\n",
       "0  #           Club  PTS   PPG  GP   W  L  T  GF  GA  GD   W-L-T  W-L-T\n",
       "1  1  TORToronto FC   69  2.03  34  20  5  9  74  37  37  13-1-3  7-4-6"
      ]
     },
     "execution_count": 11,
     "metadata": {},
     "output_type": "execute_result"
    }
   ],
   "source": [
    "t1.head(2)"
   ]
  },
  {
   "cell_type": "markdown",
   "metadata": {},
   "source": [
    "We can now drop the first column:"
   ]
  },
  {
   "cell_type": "code",
   "execution_count": 12,
   "metadata": {},
   "outputs": [
    {
     "data": {
      "text/html": [
       "<div>\n",
       "<style scoped>\n",
       "    .dataframe tbody tr th:only-of-type {\n",
       "        vertical-align: middle;\n",
       "    }\n",
       "\n",
       "    .dataframe tbody tr th {\n",
       "        vertical-align: top;\n",
       "    }\n",
       "\n",
       "    .dataframe thead th {\n",
       "        text-align: right;\n",
       "    }\n",
       "</style>\n",
       "<table border=\"1\" class=\"dataframe\">\n",
       "  <thead>\n",
       "    <tr style=\"text-align: right;\">\n",
       "      <th></th>\n",
       "      <th>#</th>\n",
       "      <th>Club</th>\n",
       "      <th>PTS</th>\n",
       "      <th>PPG</th>\n",
       "      <th>GP</th>\n",
       "      <th>W</th>\n",
       "      <th>L</th>\n",
       "      <th>T</th>\n",
       "      <th>GF</th>\n",
       "      <th>GA</th>\n",
       "      <th>GD</th>\n",
       "      <th>W-L-T</th>\n",
       "      <th>W-L-T</th>\n",
       "    </tr>\n",
       "  </thead>\n",
       "  <tbody>\n",
       "    <tr>\n",
       "      <th>1</th>\n",
       "      <td>1</td>\n",
       "      <td>TORToronto FC</td>\n",
       "      <td>69</td>\n",
       "      <td>2.03</td>\n",
       "      <td>34</td>\n",
       "      <td>20</td>\n",
       "      <td>5</td>\n",
       "      <td>9</td>\n",
       "      <td>74</td>\n",
       "      <td>37</td>\n",
       "      <td>37</td>\n",
       "      <td>13-1-3</td>\n",
       "      <td>7-4-6</td>\n",
       "    </tr>\n",
       "    <tr>\n",
       "      <th>2</th>\n",
       "      <td>2</td>\n",
       "      <td>NYCNew York City FC</td>\n",
       "      <td>57</td>\n",
       "      <td>1.68</td>\n",
       "      <td>34</td>\n",
       "      <td>16</td>\n",
       "      <td>9</td>\n",
       "      <td>9</td>\n",
       "      <td>56</td>\n",
       "      <td>43</td>\n",
       "      <td>13</td>\n",
       "      <td>10-2-5</td>\n",
       "      <td>6-7-4</td>\n",
       "    </tr>\n",
       "    <tr>\n",
       "      <th>3</th>\n",
       "      <td>3</td>\n",
       "      <td>CHIChicago Fire</td>\n",
       "      <td>55</td>\n",
       "      <td>1.62</td>\n",
       "      <td>34</td>\n",
       "      <td>16</td>\n",
       "      <td>11</td>\n",
       "      <td>7</td>\n",
       "      <td>61</td>\n",
       "      <td>47</td>\n",
       "      <td>14</td>\n",
       "      <td>12-2-3</td>\n",
       "      <td>4-9-4</td>\n",
       "    </tr>\n",
       "    <tr>\n",
       "      <th>4</th>\n",
       "      <td>4</td>\n",
       "      <td>ATLAtlanta United FC</td>\n",
       "      <td>55</td>\n",
       "      <td>1.62</td>\n",
       "      <td>34</td>\n",
       "      <td>15</td>\n",
       "      <td>9</td>\n",
       "      <td>10</td>\n",
       "      <td>70</td>\n",
       "      <td>40</td>\n",
       "      <td>30</td>\n",
       "      <td>11-3-3</td>\n",
       "      <td>4-6-7</td>\n",
       "    </tr>\n",
       "    <tr>\n",
       "      <th>5</th>\n",
       "      <td>5</td>\n",
       "      <td>CLBColumbus Crew SC</td>\n",
       "      <td>54</td>\n",
       "      <td>1.59</td>\n",
       "      <td>34</td>\n",
       "      <td>16</td>\n",
       "      <td>12</td>\n",
       "      <td>6</td>\n",
       "      <td>53</td>\n",
       "      <td>49</td>\n",
       "      <td>4</td>\n",
       "      <td>12-3-2</td>\n",
       "      <td>4-9-4</td>\n",
       "    </tr>\n",
       "    <tr>\n",
       "      <th>6</th>\n",
       "      <td>6</td>\n",
       "      <td>RBNYNew York Red Bulls</td>\n",
       "      <td>50</td>\n",
       "      <td>1.47</td>\n",
       "      <td>34</td>\n",
       "      <td>14</td>\n",
       "      <td>12</td>\n",
       "      <td>8</td>\n",
       "      <td>53</td>\n",
       "      <td>47</td>\n",
       "      <td>6</td>\n",
       "      <td>9-2-6</td>\n",
       "      <td>5-10-2</td>\n",
       "    </tr>\n",
       "    <tr>\n",
       "      <th>7</th>\n",
       "      <td>7</td>\n",
       "      <td>NENew England Revolution</td>\n",
       "      <td>45</td>\n",
       "      <td>1.32</td>\n",
       "      <td>34</td>\n",
       "      <td>13</td>\n",
       "      <td>15</td>\n",
       "      <td>6</td>\n",
       "      <td>53</td>\n",
       "      <td>61</td>\n",
       "      <td>-8</td>\n",
       "      <td>12-2-3</td>\n",
       "      <td>1-13-3</td>\n",
       "    </tr>\n",
       "    <tr>\n",
       "      <th>8</th>\n",
       "      <td>8</td>\n",
       "      <td>PHIPhiladelphia Union</td>\n",
       "      <td>42</td>\n",
       "      <td>1.24</td>\n",
       "      <td>34</td>\n",
       "      <td>11</td>\n",
       "      <td>14</td>\n",
       "      <td>9</td>\n",
       "      <td>50</td>\n",
       "      <td>47</td>\n",
       "      <td>3</td>\n",
       "      <td>10-4-3</td>\n",
       "      <td>1-10-6</td>\n",
       "    </tr>\n",
       "    <tr>\n",
       "      <th>9</th>\n",
       "      <td>9</td>\n",
       "      <td>MTLMontreal Impact</td>\n",
       "      <td>39</td>\n",
       "      <td>1.15</td>\n",
       "      <td>34</td>\n",
       "      <td>11</td>\n",
       "      <td>17</td>\n",
       "      <td>6</td>\n",
       "      <td>52</td>\n",
       "      <td>58</td>\n",
       "      <td>-6</td>\n",
       "      <td>8-8-1</td>\n",
       "      <td>3-9-5</td>\n",
       "    </tr>\n",
       "    <tr>\n",
       "      <th>10</th>\n",
       "      <td>10</td>\n",
       "      <td>ORLOrlando City SC</td>\n",
       "      <td>39</td>\n",
       "      <td>1.15</td>\n",
       "      <td>34</td>\n",
       "      <td>10</td>\n",
       "      <td>15</td>\n",
       "      <td>9</td>\n",
       "      <td>39</td>\n",
       "      <td>58</td>\n",
       "      <td>-19</td>\n",
       "      <td>7-5-5</td>\n",
       "      <td>3-10-4</td>\n",
       "    </tr>\n",
       "    <tr>\n",
       "      <th>11</th>\n",
       "      <td>11</td>\n",
       "      <td>DCD.C. United</td>\n",
       "      <td>32</td>\n",
       "      <td>0.94</td>\n",
       "      <td>34</td>\n",
       "      <td>9</td>\n",
       "      <td>20</td>\n",
       "      <td>5</td>\n",
       "      <td>31</td>\n",
       "      <td>60</td>\n",
       "      <td>-29</td>\n",
       "      <td>6-8-3</td>\n",
       "      <td>3-12-2</td>\n",
       "    </tr>\n",
       "  </tbody>\n",
       "</table>\n",
       "</div>"
      ],
      "text/plain": [
       "     #                      Club PTS   PPG  GP   W   L   T  GF  GA   GD  \\\n",
       "1    1             TORToronto FC  69  2.03  34  20   5   9  74  37   37   \n",
       "2    2       NYCNew York City FC  57  1.68  34  16   9   9  56  43   13   \n",
       "3    3           CHIChicago Fire  55  1.62  34  16  11   7  61  47   14   \n",
       "4    4      ATLAtlanta United FC  55  1.62  34  15   9  10  70  40   30   \n",
       "5    5       CLBColumbus Crew SC  54  1.59  34  16  12   6  53  49    4   \n",
       "6    6    RBNYNew York Red Bulls  50  1.47  34  14  12   8  53  47    6   \n",
       "7    7  NENew England Revolution  45  1.32  34  13  15   6  53  61   -8   \n",
       "8    8     PHIPhiladelphia Union  42  1.24  34  11  14   9  50  47    3   \n",
       "9    9        MTLMontreal Impact  39  1.15  34  11  17   6  52  58   -6   \n",
       "10  10        ORLOrlando City SC  39  1.15  34  10  15   9  39  58  -19   \n",
       "11  11             DCD.C. United  32  0.94  34   9  20   5  31  60  -29   \n",
       "\n",
       "     W-L-T   W-L-T  \n",
       "1   13-1-3   7-4-6  \n",
       "2   10-2-5   6-7-4  \n",
       "3   12-2-3   4-9-4  \n",
       "4   11-3-3   4-6-7  \n",
       "5   12-3-2   4-9-4  \n",
       "6    9-2-6  5-10-2  \n",
       "7   12-2-3  1-13-3  \n",
       "8   10-4-3  1-10-6  \n",
       "9    8-8-1   3-9-5  \n",
       "10   7-5-5  3-10-4  \n",
       "11   6-8-3  3-12-2  "
      ]
     },
     "execution_count": 12,
     "metadata": {},
     "output_type": "execute_result"
    }
   ],
   "source": [
    "t1.drop(index=0, inplace=True)\n",
    "t1"
   ]
  },
  {
   "cell_type": "markdown",
   "metadata": {},
   "source": [
    "### Repeating the process\n",
    "\n",
    "For the second table, we can just create a function and do it all at once:"
   ]
  },
  {
   "cell_type": "code",
   "execution_count": null,
   "metadata": {},
   "outputs": [],
   "source": [
    "def parse_mls_standing_table(table):\n",
    "    table.drop(columns=['Overall', 'Unnamed: 12', 'Unnamed: 14'], inplace=True)\n",
    "    table.columns = table.loc[0].values\n",
    "    table.drop(index=0, inplace=True)\n",
    "    return table"
   ]
  },
  {
   "cell_type": "code",
   "execution_count": null,
   "metadata": {},
   "outputs": [],
   "source": [
    "t2 = parse_mls_standing_table(page[1].copy())"
   ]
  },
  {
   "cell_type": "code",
   "execution_count": null,
   "metadata": {},
   "outputs": [],
   "source": [
    "t2.head()"
   ]
  },
  {
   "cell_type": "markdown",
   "metadata": {},
   "source": [
    "### Merging both tables\n",
    "\n",
    "\n",
    "Now we need to merge both tables to process them together. But before doing so, we need a way to remember each team's conference. I'll go with the easiest approach, just a 'Conference' column. A multi-index could also have been an option."
   ]
  },
  {
   "cell_type": "code",
   "execution_count": null,
   "metadata": {},
   "outputs": [],
   "source": [
    "t1['Conference'] = 'Eastern'\n",
    "t2['Conference'] = 'Western'"
   ]
  },
  {
   "cell_type": "code",
   "execution_count": null,
   "metadata": {},
   "outputs": [],
   "source": [
    "t2"
   ]
  },
  {
   "cell_type": "markdown",
   "metadata": {},
   "source": [
    "Finally, putting altogether:"
   ]
  },
  {
   "cell_type": "code",
   "execution_count": null,
   "metadata": {},
   "outputs": [],
   "source": [
    "standings = pd.concat([t1, t2])\n",
    "standings"
   ]
  }
 ],
 "metadata": {
  "kernelspec": {
   "display_name": "Python 3",
   "language": "python",
   "name": "python3"
  },
  "language_info": {
   "codemirror_mode": {
    "name": "ipython",
    "version": 3
   },
   "file_extension": ".py",
   "mimetype": "text/x-python",
   "name": "python",
   "nbconvert_exporter": "python",
   "pygments_lexer": "ipython3",
   "version": "3.6.4"
  }
 },
 "nbformat": 4,
 "nbformat_minor": 2
}
